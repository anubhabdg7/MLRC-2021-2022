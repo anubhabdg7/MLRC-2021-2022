{
 "cells": [
  {
   "cell_type": "code",
   "execution_count": 1,
   "id": "9a5636f0",
   "metadata": {},
   "outputs": [],
   "source": [
    "cd /content/drive/MyDrive/Human-Path-Prediction-master (1)/ynet"
   ]
  },
  {
   "cell_type": "code",
   "execution_count": 2,
   "id": "91501984",
   "metadata": {},
   "outputs": [],
   "source": [
    "import pandas as pd\n",
    "import yaml\n",
    "import argparse\n",
    "import torch\n",
    "from model import YNet"
   ]
  },
  {
   "cell_type": "code",
   "execution_count": 3,
   "id": "3e288885",
   "metadata": {},
   "outputs": [],
   "source": [
    "%load_ext autoreload\n",
    "%autoreload 2"
   ]
  },
  {
   "cell_type": "code",
   "execution_count": 4,
   "id": "1e637aa9",
   "metadata": {},
   "outputs": [],
   "source": [
    "CONFIG_FILE_PATH = 'config/sdd_longterm.yaml'  # yaml config file containing all the hyperparameters\n",
    "EXPERIMENT_NAME = 'sdd_longterm'  # arbitrary name for this experiment\n",
    "DATASET_NAME = 'sdd'\n",
    "\n",
    "TRAIN_DATA_PATH = 'data/SDD/train_longterm.pkl'\n",
    "TRAIN_IMAGE_PATH = 'data/SDD/train'\n",
    "VAL_DATA_PATH = 'data/SDD/test_longterm.pkl'\n",
    "VAL_IMAGE_PATH = 'data/SDD/test'\n",
    "OBS_LEN = 5  # in timesteps\n",
    "PRED_LEN = 30  # in timesteps\n",
    "NUM_GOALS = 20  # K_e\n",
    "NUM_TRAJ = 1  # K_a\n",
    "\n",
    "BATCH_SIZE = 4"
   ]
  },
  {
   "cell_type": "code",
   "execution_count": 5,
   "id": "e45805f1",
   "metadata": {},
   "outputs": [],
   "source": [
    "CONFIG_FILE_PATH = 'config/sdd_longterm.yaml'  # yaml config file containing all the hyperparameters\n",
    "EXPERIMENT_NAME = 'sdd_longterm'  # arbitrary name for this experiment\n",
    "DATASET_NAME = 'sdd'\n",
    "\n",
    "TRAIN_DATA_PATH = 'data/SDD/train_longterm.pkl'\n",
    "TRAIN_IMAGE_PATH = 'data/SDD/train'\n",
    "VAL_DATA_PATH = 'data/SDD/test_longterm.pkl'\n",
    "VAL_IMAGE_PATH = 'data/SDD/test'\n",
    "OBS_LEN = 5  # in timesteps\n",
    "PRED_LEN = 30  # in timesteps\n",
    "NUM_GOALS = 20  # K_e\n",
    "NUM_TRAJ = 1  # K_a\n",
    "\n",
    "BATCH_SIZE = 4"
   ]
  },
  {
   "cell_type": "code",
   "execution_count": 6,
   "id": "05dc0232",
   "metadata": {},
   "outputs": [
    {
     "name": "stdout",
     "output_type": "stream",
     "text": [
      "{'CWS_params': {'ratio': 2, 'rot': True, 'sigma_factor': 6},\n",
      " 'batch_size': 8,\n",
      " 'decoder_channels': [64, 64, 64, 32, 32],\n",
      " 'encoder_channels': [32, 32, 64, 64, 64],\n",
      " 'kernlen': 31,\n",
      " 'learning_rate': 0.0001,\n",
      " 'loss_scale': 1000,\n",
      " 'nsig': 4,\n",
      " 'num_epochs': 300,\n",
      " 'rel_threshold': 0.002,\n",
      " 'resize': 0.25,\n",
      " 'segmentation_model_fp': 'segmentation_models/SDD_segmentation.pth',\n",
      " 'semantic_classes': 6,\n",
      " 'temperature': 1.8,\n",
      " 'unfreeze': 100,\n",
      " 'use_CWS': True,\n",
      " 'use_TTST': True,\n",
      " 'use_features_only': False,\n",
      " 'viz_epoch': 10,\n",
      " 'waypoints': [14, 29]}"
     ]
    }
   ],
   "source": [
    "with open(CONFIG_FILE_PATH) as file:\n",
    "    params = yaml.load(file, Loader=yaml.FullLoader)\n",
    "experiment_name = CONFIG_FILE_PATH.split('.yaml')[0].split('config/')[1]\n",
    "params"
   ]
  },
  {
   "cell_type": "code",
   "execution_count": 7,
   "id": "feed6c34",
   "metadata": {},
   "outputs": [],
   "source": [
    "#df_train = pd.read_pickle(TRAIN_DATA_PATH)\n",
    "#df_val = pd.read_pickle(VAL_DATA_PATH)\n",
    "!pip3 install pickle5\n",
    "#df_train = pd.read_pickle(TRAIN_DATA_PATH)\n",
    "#df_val = pd.read_pickle(VAL_DATA_PATH)\n",
    "\n",
    "import pickle5 as pickle \n",
    "with open(TRAIN_DATA_PATH, \"rb\") as fh:\n",
    "    df_train = pickle.load(fh)\n",
    "with open(VAL_DATA_PATH, \"rb\") as fh1:\n",
    "    df_val = pickle.load(fh1)"
   ]
  },
  {
   "cell_type": "code",
   "execution_count": 8,
   "id": "24267099",
   "metadata": {},
   "outputs": [
    {
     "name": "stdout",
     "output_type": "stream",
     "text": [
      "   trackId  frame      x      y      sceneId  metaId\n",
      "0        2   6881   17.0  893.5  bookstore_0       0\n",
      "1        2   6911   31.0  904.0  bookstore_0       0\n",
      "2        2   6941   63.0  910.5  bookstore_0       0\n",
      "3        2   6971   98.5  917.5  bookstore_0       0\n",
      "4        2   7001  134.0  919.5  bookstore_0       0"
     ]
    }
   ],
   "source": [
    "df_train.head()"
   ]
  },
  {
   "cell_type": "code",
   "execution_count": 9,
   "id": "0955d5b3",
   "metadata": {},
   "outputs": [],
   "source": [
    "model = YNet(obs_len=OBS_LEN, pred_len=PRED_LEN, params=params)"
   ]
  },
  {
   "cell_type": "code",
   "execution_count": 10,
   "id": "46959957",
   "metadata": {},
   "outputs": [
    {
     "data": {
      "text/html": [
       "\n",
       "                    Syncing run <strong><a href=\"https://wandb.ai/agv/ynet/runs/2fd2enb8\" target=\"_blank\">silvery-universe-20</a></strong> to <a href=\"https://wandb.ai/agv/ynet\" target=\"_blank\">Weights & Biases</a> (<a href=\"https://docs.wandb.com/integrations/jupyter.html\" target=\"_blank\">docs</a>).<br/>\n",
       "\n",
       "                "
      ],
      "text/plain": [
       "<IPython.core.display.HTML object>"
      ]
     },
     "metadata": {},
     "output_type": "display_data"
    }
   ],
   "source": [
    "import weights_and_biases as wandb\n",
    "wandb.init_wandb(params.copy(), model.model)"
   ]
  },
  {
   "cell_type": "code",
   "execution_count": 11,
   "id": "547fcf1a",
   "metadata": {},
   "outputs": [],
   "source": [
    "import weights_and_biases as wandb\n",
    "wandb.init_wandb(params.copy(), model.model)"
   ]
  }
 ],
 "metadata": {
  "kernelspec": {
   "display_name": "Python 3",
   "language": "python",
   "name": "python3"
  },
  "language_info": {
   "codemirror_mode": {
    "name": "ipython",
    "version": 3
   },
   "file_extension": ".py",
   "mimetype": "text/x-python",
   "name": "python",
   "nbconvert_exporter": "python",
   "pygments_lexer": "ipython3",
   "version": "3.7.12"
  }
 },
 "nbformat": 4,
 "nbformat_minor": 5
}
