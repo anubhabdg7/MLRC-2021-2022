{
  "cells": [
    {
      "cell_type": "code",
      "execution_count": null,
      "metadata": {
        "id": "q4wgKhonGDJn"
      },
      "outputs": [],
      "source": [
        "from google.colab import drive"
      ],
      "id": "q4wgKhonGDJn"
    },
    {
      "cell_type": "markdown",
      "metadata": {
        "id": "koLSDU3KHn5e"
      },
      "source": [
        ""
      ],
      "id": "koLSDU3KHn5e"
    },
    {
      "cell_type": "code",
      "execution_count": null,
      "metadata": {
        "colab": {
          "base_uri": "https://localhost:8080/"
        },
        "id": "QGzq7HyiGDDv",
        "outputId": "f1eb914e-1006-4de6-8d36-92e3b0f3997a"
      },
      "outputs": [
        {
          "output_type": "stream",
          "name": "stdout",
          "text": [
            "Mounted at /content/drive\n"
          ]
        }
      ],
      "source": [
        "drive.mount('/content/drive', force_remount= True)"
      ],
      "id": "QGzq7HyiGDDv"
    },
    {
      "cell_type": "code",
      "execution_count": null,
      "metadata": {
        "colab": {
          "base_uri": "https://localhost:8080/"
        },
        "id": "ePwFUQvrGq1A",
        "outputId": "1ad2c94e-120b-44de-9bae-90f6816946be"
      },
      "outputs": [
        {
          "output_type": "stream",
          "name": "stdout",
          "text": [
            "drive  sample_data\n"
          ]
        }
      ],
      "source": [
        "!ls"
      ],
      "id": "ePwFUQvrGq1A"
    },
    {
      "cell_type": "code",
      "execution_count": null,
      "metadata": {
        "colab": {
          "base_uri": "https://localhost:8080/"
        },
        "id": "YPOC6rPIGC9Y",
        "outputId": "feea5194-2fc3-4569-82dd-d432f636e873"
      },
      "outputs": [
        {
          "output_type": "stream",
          "name": "stdout",
          "text": [
            "/content/drive/MyDrive/Human-Path-Prediction-master (1)/ynet\n"
          ]
        }
      ],
      "source": [
        "cd /content/drive/MyDrive/Human-Path-Prediction-master (1)/ynet"
      ],
      "id": "YPOC6rPIGC9Y"
    },
    {
      "cell_type": "code",
      "execution_count": null,
      "metadata": {
        "colab": {
          "base_uri": "https://localhost:8080/"
        },
        "id": "p2IwKmpUGCyL",
        "outputId": "d631c237-73e4-43f2-8db3-d89372876651"
      },
      "outputs": [
        {
          "output_type": "stream",
          "name": "stdout",
          "text": [
            "Requirement already satisfied: wandb in /usr/local/lib/python3.7/dist-packages (0.12.9)\n",
            "Requirement already satisfied: yaspin>=1.0.0 in /usr/local/lib/python3.7/dist-packages (from wandb) (2.1.0)\n",
            "Requirement already satisfied: subprocess32>=3.5.3 in /usr/local/lib/python3.7/dist-packages (from wandb) (3.5.4)\n",
            "Requirement already satisfied: protobuf>=3.12.0 in /usr/local/lib/python3.7/dist-packages (from wandb) (3.17.3)\n",
            "Requirement already satisfied: pathtools in /usr/local/lib/python3.7/dist-packages (from wandb) (0.1.2)\n",
            "Requirement already satisfied: Click!=8.0.0,>=7.0 in /usr/local/lib/python3.7/dist-packages (from wandb) (7.1.2)\n",
            "Requirement already satisfied: psutil>=5.0.0 in /usr/local/lib/python3.7/dist-packages (from wandb) (5.4.8)\n",
            "Requirement already satisfied: shortuuid>=0.5.0 in /usr/local/lib/python3.7/dist-packages (from wandb) (1.0.8)\n",
            "Requirement already satisfied: sentry-sdk>=1.0.0 in /usr/local/lib/python3.7/dist-packages (from wandb) (1.5.4)\n",
            "Requirement already satisfied: configparser>=3.8.1 in /usr/local/lib/python3.7/dist-packages (from wandb) (5.2.0)\n",
            "Requirement already satisfied: requests<3,>=2.0.0 in /usr/local/lib/python3.7/dist-packages (from wandb) (2.23.0)\n",
            "Requirement already satisfied: GitPython>=1.0.0 in /usr/local/lib/python3.7/dist-packages (from wandb) (3.1.26)\n",
            "Requirement already satisfied: six>=1.13.0 in /usr/local/lib/python3.7/dist-packages (from wandb) (1.15.0)\n",
            "Requirement already satisfied: promise<3,>=2.0 in /usr/local/lib/python3.7/dist-packages (from wandb) (2.3)\n",
            "Requirement already satisfied: PyYAML in /usr/local/lib/python3.7/dist-packages (from wandb) (5.3.1)\n",
            "Requirement already satisfied: python-dateutil>=2.6.1 in /usr/local/lib/python3.7/dist-packages (from wandb) (2.8.2)\n",
            "Requirement already satisfied: docker-pycreds>=0.4.0 in /usr/local/lib/python3.7/dist-packages (from wandb) (0.4.0)\n",
            "Requirement already satisfied: gitdb<5,>=4.0.1 in /usr/local/lib/python3.7/dist-packages (from GitPython>=1.0.0->wandb) (4.0.9)\n",
            "Requirement already satisfied: typing-extensions>=3.7.4.3 in /usr/local/lib/python3.7/dist-packages (from GitPython>=1.0.0->wandb) (3.10.0.2)\n",
            "Requirement already satisfied: smmap<6,>=3.0.1 in /usr/local/lib/python3.7/dist-packages (from gitdb<5,>=4.0.1->GitPython>=1.0.0->wandb) (5.0.0)\n",
            "Requirement already satisfied: urllib3!=1.25.0,!=1.25.1,<1.26,>=1.21.1 in /usr/local/lib/python3.7/dist-packages (from requests<3,>=2.0.0->wandb) (1.24.3)\n",
            "Requirement already satisfied: chardet<4,>=3.0.2 in /usr/local/lib/python3.7/dist-packages (from requests<3,>=2.0.0->wandb) (3.0.4)\n",
            "Requirement already satisfied: certifi>=2017.4.17 in /usr/local/lib/python3.7/dist-packages (from requests<3,>=2.0.0->wandb) (2021.10.8)\n",
            "Requirement already satisfied: idna<3,>=2.5 in /usr/local/lib/python3.7/dist-packages (from requests<3,>=2.0.0->wandb) (2.10)\n",
            "Requirement already satisfied: termcolor<2.0.0,>=1.1.0 in /usr/local/lib/python3.7/dist-packages (from yaspin>=1.0.0->wandb) (1.1.0)\n"
          ]
        }
      ],
      "source": [
        "!pip install wandb"
      ],
      "id": "p2IwKmpUGCyL"
    },
    {
      "cell_type": "code",
      "execution_count": null,
      "metadata": {
        "id": "determined-township"
      },
      "outputs": [],
      "source": [
        "import pandas as pd\n",
        "import yaml\n",
        "import argparse\n",
        "import torch\n",
        "from model import YNet"
      ],
      "id": "determined-township"
    },
    {
      "cell_type": "code",
      "execution_count": null,
      "metadata": {
        "id": "finished-potential"
      },
      "outputs": [],
      "source": [
        "%load_ext autoreload\n",
        "%autoreload 2"
      ],
      "id": "finished-potential"
    },
    {
      "cell_type": "markdown",
      "metadata": {
        "id": "e567fbe0"
      },
      "source": [
        "#### Some hyperparameters and settings"
      ],
      "id": "e567fbe0"
    },
    {
      "cell_type": "code",
      "execution_count": null,
      "metadata": {
        "id": "arabic-thickness"
      },
      "outputs": [],
      "source": [
        "CONFIG_FILE_PATH = 'config/inD_longterm.yaml'  # yaml config file containing all the hyperparameters\n",
        "EXPERIMENT_NAME = 'ind_longterm'  # arbitrary name for this experiment\n",
        "DATASET_NAME = 'ind'\n",
        "\n",
        "TRAIN_DATA_PATH = 'data/inD/train.pkl'\n",
        "TRAIN_IMAGE_PATH = 'data/inD/train'\n",
        "VAL_DATA_PATH = 'data/inD/test.pkl'\n",
        "VAL_IMAGE_PATH = 'data/inD/test'\n",
        "OBS_LEN = 5 # in timesteps\n",
        "PRED_LEN = 30 # in timesteps\n",
        "NUM_GOALS = 20 # K_e\n",
        "NUM_TRAJ = 10 # K_a\n",
        "\n",
        "BATCH_SIZE = 8"
      ],
      "id": "arabic-thickness"
    },
    {
      "cell_type": "code",
      "execution_count": null,
      "metadata": {
        "colab": {
          "base_uri": "https://localhost:8080/",
          "height": 1000
        },
        "id": "6BhBP_J5FhgB",
        "outputId": "e1c01031-6a3d-4e9f-8ae7-06357167859e"
      },
      "outputs": [
        {
          "output_type": "stream",
          "name": "stdout",
          "text": [
            "Collecting tqdm==4.48.0\n",
            "  Downloading tqdm-4.48.0-py2.py3-none-any.whl (67 kB)\n",
            "\u001b[?25l\r\u001b[K     |████▉                           | 10 kB 33.8 MB/s eta 0:00:01\r\u001b[K     |█████████▋                      | 20 kB 29.7 MB/s eta 0:00:01\r\u001b[K     |██████████████▌                 | 30 kB 20.1 MB/s eta 0:00:01\r\u001b[K     |███████████████████▎            | 40 kB 16.8 MB/s eta 0:00:01\r\u001b[K     |████████████████████████▏       | 51 kB 8.5 MB/s eta 0:00:01\r\u001b[K     |█████████████████████████████   | 61 kB 9.2 MB/s eta 0:00:01\r\u001b[K     |████████████████████████████████| 67 kB 4.4 MB/s \n",
            "\u001b[?25hCollecting pyyaml==5.3.1\n",
            "  Downloading PyYAML-5.3.1.tar.gz (269 kB)\n",
            "\u001b[K     |████████████████████████████████| 269 kB 18.0 MB/s \n",
            "\u001b[?25hRequirement already satisfied: matplotlib==3.2.2 in /usr/local/lib/python3.7/dist-packages (from -r requirements.txt (line 3)) (3.2.2)\n",
            "Collecting torch==1.5.1\n",
            "  Downloading torch-1.5.1-cp37-cp37m-manylinux1_x86_64.whl (753.2 MB)\n",
            "\u001b[K     |████████████████████████████████| 753.2 MB 12 kB/s \n",
            "\u001b[?25hRequirement already satisfied: pandas==1.1.5 in /usr/local/lib/python3.7/dist-packages (from -r requirements.txt (line 5)) (1.1.5)\n",
            "Collecting opencv-python==4.4.0.42\n",
            "  Downloading opencv_python-4.4.0.42-cp37-cp37m-manylinux2014_x86_64.whl (49.4 MB)\n",
            "\u001b[K     |████████████████████████████████| 49.4 MB 1.2 MB/s \n",
            "\u001b[?25hCollecting scipy==1.5.0\n",
            "  Downloading scipy-1.5.0-cp37-cp37m-manylinux1_x86_64.whl (25.9 MB)\n",
            "\u001b[K     |████████████████████████████████| 25.9 MB 99.9 MB/s \n",
            "\u001b[?25hCollecting segmentation_models_pytorch==0.1.0\n",
            "  Downloading segmentation_models_pytorch-0.1.0-py3-none-any.whl (42 kB)\n",
            "\u001b[K     |████████████████████████████████| 42 kB 1.6 MB/s \n",
            "\u001b[?25hRequirement already satisfied: cycler>=0.10 in /usr/local/lib/python3.7/dist-packages (from matplotlib==3.2.2->-r requirements.txt (line 3)) (0.11.0)\n",
            "Requirement already satisfied: numpy>=1.11 in /usr/local/lib/python3.7/dist-packages (from matplotlib==3.2.2->-r requirements.txt (line 3)) (1.19.5)\n",
            "Requirement already satisfied: pyparsing!=2.0.4,!=2.1.2,!=2.1.6,>=2.0.1 in /usr/local/lib/python3.7/dist-packages (from matplotlib==3.2.2->-r requirements.txt (line 3)) (3.0.7)\n",
            "Requirement already satisfied: python-dateutil>=2.1 in /usr/local/lib/python3.7/dist-packages (from matplotlib==3.2.2->-r requirements.txt (line 3)) (2.8.2)\n",
            "Requirement already satisfied: kiwisolver>=1.0.1 in /usr/local/lib/python3.7/dist-packages (from matplotlib==3.2.2->-r requirements.txt (line 3)) (1.3.2)\n",
            "Requirement already satisfied: future in /usr/local/lib/python3.7/dist-packages (from torch==1.5.1->-r requirements.txt (line 4)) (0.16.0)\n",
            "Requirement already satisfied: pytz>=2017.2 in /usr/local/lib/python3.7/dist-packages (from pandas==1.1.5->-r requirements.txt (line 5)) (2018.9)\n",
            "Collecting pretrainedmodels==0.7.4\n",
            "  Downloading pretrainedmodels-0.7.4.tar.gz (58 kB)\n",
            "\u001b[K     |████████████████████████████████| 58 kB 8.2 MB/s \n",
            "\u001b[?25hRequirement already satisfied: torchvision>=0.3.0 in /usr/local/lib/python3.7/dist-packages (from segmentation_models_pytorch==0.1.0->-r requirements.txt (line 8)) (0.11.1+cu111)\n",
            "Collecting efficientnet-pytorch>=0.5.1\n",
            "  Downloading efficientnet_pytorch-0.7.1.tar.gz (21 kB)\n",
            "Collecting munch\n",
            "  Downloading munch-2.5.0-py2.py3-none-any.whl (10 kB)\n",
            "Requirement already satisfied: six>=1.5 in /usr/local/lib/python3.7/dist-packages (from python-dateutil>=2.1->matplotlib==3.2.2->-r requirements.txt (line 3)) (1.15.0)\n",
            "Requirement already satisfied: pillow!=8.3.0,>=5.3.0 in /usr/local/lib/python3.7/dist-packages (from torchvision>=0.3.0->segmentation_models_pytorch==0.1.0->-r requirements.txt (line 8)) (7.1.2)\n",
            "Collecting torchvision>=0.3.0\n",
            "  Downloading torchvision-0.11.3-cp37-cp37m-manylinux1_x86_64.whl (23.2 MB)\n",
            "\u001b[K     |████████████████████████████████| 23.2 MB 1.1 MB/s \n",
            "\u001b[?25h  Downloading torchvision-0.11.2-cp37-cp37m-manylinux1_x86_64.whl (23.3 MB)\n",
            "\u001b[K     |████████████████████████████████| 23.3 MB 1.1 MB/s \n",
            "\u001b[?25h  Downloading torchvision-0.11.1-cp37-cp37m-manylinux1_x86_64.whl (23.3 MB)\n",
            "\u001b[K     |████████████████████████████████| 23.3 MB 1.2 MB/s \n",
            "\u001b[?25h  Downloading torchvision-0.10.1-cp37-cp37m-manylinux1_x86_64.whl (22.1 MB)\n",
            "\u001b[K     |████████████████████████████████| 22.1 MB 1.2 MB/s \n",
            "\u001b[?25h  Downloading torchvision-0.10.0-cp37-cp37m-manylinux1_x86_64.whl (22.1 MB)\n",
            "\u001b[K     |████████████████████████████████| 22.1 MB 56 kB/s \n",
            "\u001b[?25h  Downloading torchvision-0.9.1-cp37-cp37m-manylinux1_x86_64.whl (17.4 MB)\n",
            "\u001b[K     |████████████████████████████████| 17.4 MB 65.7 MB/s \n",
            "\u001b[?25h  Downloading torchvision-0.9.0-cp37-cp37m-manylinux1_x86_64.whl (17.3 MB)\n",
            "\u001b[K     |████████████████████████████████| 17.3 MB 89.6 MB/s \n",
            "\u001b[?25h  Downloading torchvision-0.8.2-cp37-cp37m-manylinux1_x86_64.whl (12.8 MB)\n",
            "\u001b[K     |████████████████████████████████| 12.8 MB 75.5 MB/s \n",
            "\u001b[?25h  Downloading torchvision-0.8.1-cp37-cp37m-manylinux1_x86_64.whl (12.7 MB)\n",
            "\u001b[K     |████████████████████████████████| 12.7 MB 68.1 MB/s \n",
            "\u001b[?25h  Downloading torchvision-0.8.0-cp37-cp37m-manylinux1_x86_64.whl (11.8 MB)\n",
            "\u001b[K     |████████████████████████████████| 11.8 MB 46.9 MB/s \n",
            "\u001b[?25h  Downloading torchvision-0.7.0-cp37-cp37m-manylinux1_x86_64.whl (5.9 MB)\n",
            "\u001b[K     |████████████████████████████████| 5.9 MB 72.2 MB/s \n",
            "\u001b[?25h  Downloading torchvision-0.6.1-cp37-cp37m-manylinux1_x86_64.whl (6.6 MB)\n",
            "\u001b[K     |████████████████████████████████| 6.6 MB 48.6 MB/s \n",
            "\u001b[?25hBuilding wheels for collected packages: pyyaml, pretrainedmodels, efficientnet-pytorch\n",
            "  Building wheel for pyyaml (setup.py) ... \u001b[?25l\u001b[?25hdone\n",
            "  Created wheel for pyyaml: filename=PyYAML-5.3.1-cp37-cp37m-linux_x86_64.whl size=44636 sha256=28d47031ec264246114265250c3e99d3677a3532a37b4459a4ed23f0f4b73069\n",
            "  Stored in directory: /root/.cache/pip/wheels/5e/03/1e/e1e954795d6f35dfc7b637fe2277bff021303bd9570ecea653\n",
            "  Building wheel for pretrainedmodels (setup.py) ... \u001b[?25l\u001b[?25hdone\n",
            "  Created wheel for pretrainedmodels: filename=pretrainedmodels-0.7.4-py3-none-any.whl size=60965 sha256=01a940f0046eb2f1293f0faa5b234ab43342b86ba78d08c0e7f96109cd3302cd\n",
            "  Stored in directory: /root/.cache/pip/wheels/ed/27/e8/9543d42de2740d3544db96aefef63bda3f2c1761b3334f4873\n",
            "  Building wheel for efficientnet-pytorch (setup.py) ... \u001b[?25l\u001b[?25hdone\n",
            "  Created wheel for efficientnet-pytorch: filename=efficientnet_pytorch-0.7.1-py3-none-any.whl size=16446 sha256=20028317f38a8d940287b8cbe049c3f906a93790a3d9b5bbf5147a12427298e2\n",
            "  Stored in directory: /root/.cache/pip/wheels/0e/cc/b2/49e74588263573ff778da58cc99b9c6349b496636a7e165be6\n",
            "Successfully built pyyaml pretrainedmodels efficientnet-pytorch\n",
            "Installing collected packages: torch, tqdm, torchvision, munch, pretrainedmodels, efficientnet-pytorch, segmentation-models-pytorch, scipy, pyyaml, opencv-python\n",
            "  Attempting uninstall: torch\n",
            "    Found existing installation: torch 1.10.0+cu111\n",
            "    Uninstalling torch-1.10.0+cu111:\n",
            "      Successfully uninstalled torch-1.10.0+cu111\n",
            "  Attempting uninstall: tqdm\n",
            "    Found existing installation: tqdm 4.62.3\n",
            "    Uninstalling tqdm-4.62.3:\n",
            "      Successfully uninstalled tqdm-4.62.3\n",
            "  Attempting uninstall: torchvision\n",
            "    Found existing installation: torchvision 0.11.1+cu111\n",
            "    Uninstalling torchvision-0.11.1+cu111:\n",
            "      Successfully uninstalled torchvision-0.11.1+cu111\n",
            "  Attempting uninstall: scipy\n",
            "    Found existing installation: scipy 1.4.1\n",
            "    Uninstalling scipy-1.4.1:\n",
            "      Successfully uninstalled scipy-1.4.1\n",
            "  Attempting uninstall: pyyaml\n",
            "    Found existing installation: PyYAML 3.13\n",
            "    Uninstalling PyYAML-3.13:\n",
            "      Successfully uninstalled PyYAML-3.13\n",
            "  Attempting uninstall: opencv-python\n",
            "    Found existing installation: opencv-python 4.1.2.30\n",
            "    Uninstalling opencv-python-4.1.2.30:\n",
            "      Successfully uninstalled opencv-python-4.1.2.30\n",
            "\u001b[31mERROR: pip's dependency resolver does not currently take into account all the packages that are installed. This behaviour is the source of the following dependency conflicts.\n",
            "torchtext 0.11.0 requires torch==1.10.0, but you have torch 1.5.1 which is incompatible.\n",
            "torchaudio 0.10.0+cu111 requires torch==1.10.0, but you have torch 1.5.1 which is incompatible.\n",
            "albumentations 0.1.12 requires imgaug<0.2.7,>=0.2.5, but you have imgaug 0.2.9 which is incompatible.\u001b[0m\n",
            "Successfully installed efficientnet-pytorch-0.7.1 munch-2.5.0 opencv-python-4.4.0.42 pretrainedmodels-0.7.4 pyyaml-5.3.1 scipy-1.5.0 segmentation-models-pytorch-0.1.0 torch-1.5.1 torchvision-0.6.1 tqdm-4.48.0\n"
          ]
        },
        {
          "output_type": "display_data",
          "data": {
            "application/vnd.colab-display-data+json": {
              "pip_warning": {
                "packages": [
                  "cv2",
                  "torch",
                  "tqdm",
                  "yaml"
                ]
              }
            }
          },
          "metadata": {}
        }
      ],
      "source": [
        "pip install -r requirements.txt"
      ],
      "id": "6BhBP_J5FhgB"
    },
    {
      "cell_type": "markdown",
      "metadata": {
        "id": "2f729e8f"
      },
      "source": [
        "#### Load config file and print hyperparameters"
      ],
      "id": "2f729e8f"
    },
    {
      "cell_type": "code",
      "execution_count": null,
      "metadata": {
        "colab": {
          "base_uri": "https://localhost:8080/"
        },
        "id": "dangerous-cutting",
        "outputId": "6520b672-dc1d-4814-db14-bd6b4a01b8b1"
      },
      "outputs": [
        {
          "output_type": "execute_result",
          "data": {
            "text/plain": [
              "{'CWS_params': {'ratio': 2, 'rot': True, 'sigma_factor': 6},\n",
              " 'batch_size': 8,\n",
              " 'decoder_channels': [64, 64, 64, 32, 32],\n",
              " 'encoder_channels': [32, 32, 64, 64, 64],\n",
              " 'kernlen': 31,\n",
              " 'learning_rate': 0.0001,\n",
              " 'loss_scale': 1000,\n",
              " 'nsig': 4,\n",
              " 'num_epochs': 300,\n",
              " 'rel_threshold': 0.002,\n",
              " 'resize': 0.33,\n",
              " 'segmentation_model_fp': 'segmentation_models/inD_segmentation.pth',\n",
              " 'semantic_classes': 6,\n",
              " 'temperature': 1.8,\n",
              " 'unfreeze': 100,\n",
              " 'use_CWS': True,\n",
              " 'use_TTST': True,\n",
              " 'use_features_only': False,\n",
              " 'viz_epoch': 10,\n",
              " 'waypoints': [14, 29]}"
            ]
          },
          "metadata": {},
          "execution_count": 9
        }
      ],
      "source": [
        "with open(CONFIG_FILE_PATH) as file:\n",
        "    params = yaml.load(file, Loader=yaml.FullLoader)\n",
        "experiment_name = CONFIG_FILE_PATH.split('.yaml')[0].split('config/')[1]\n",
        "params"
      ],
      "id": "dangerous-cutting"
    },
    {
      "cell_type": "markdown",
      "metadata": {
        "id": "699a7543"
      },
      "source": [
        "#### Wandb INIT"
      ],
      "id": "699a7543"
    },
    {
      "cell_type": "code",
      "execution_count": null,
      "metadata": {
        "id": "65f560e7"
      },
      "outputs": [],
      "source": [
        ""
      ],
      "id": "65f560e7"
    },
    {
      "cell_type": "markdown",
      "metadata": {
        "id": "amber-pressure"
      },
      "source": [
        "#### Load preprocessed Data"
      ],
      "id": "amber-pressure"
    },
    {
      "cell_type": "code",
      "execution_count": null,
      "metadata": {
        "colab": {
          "base_uri": "https://localhost:8080/"
        },
        "id": "german-feature",
        "outputId": "afba0d8a-9ab6-44ae-9f6c-1c52b9075939"
      },
      "outputs": [
        {
          "output_type": "stream",
          "name": "stdout",
          "text": [
            "Collecting pickle5\n",
            "  Downloading pickle5-0.0.12-cp37-cp37m-manylinux_2_5_x86_64.manylinux1_x86_64.whl (256 kB)\n",
            "\u001b[?25l\r\u001b[K     |█▎                              | 10 kB 23.3 MB/s eta 0:00:01\r\u001b[K     |██▋                             | 20 kB 30.3 MB/s eta 0:00:01\r\u001b[K     |███▉                            | 30 kB 19.1 MB/s eta 0:00:01\r\u001b[K     |█████▏                          | 40 kB 15.6 MB/s eta 0:00:01\r\u001b[K     |██████▍                         | 51 kB 7.6 MB/s eta 0:00:01\r\u001b[K     |███████▊                        | 61 kB 7.7 MB/s eta 0:00:01\r\u001b[K     |█████████                       | 71 kB 8.1 MB/s eta 0:00:01\r\u001b[K     |██████████▎                     | 81 kB 9.1 MB/s eta 0:00:01\r\u001b[K     |███████████▌                    | 92 kB 9.3 MB/s eta 0:00:01\r\u001b[K     |████████████▉                   | 102 kB 7.3 MB/s eta 0:00:01\r\u001b[K     |██████████████                  | 112 kB 7.3 MB/s eta 0:00:01\r\u001b[K     |███████████████▍                | 122 kB 7.3 MB/s eta 0:00:01\r\u001b[K     |████████████████▋               | 133 kB 7.3 MB/s eta 0:00:01\r\u001b[K     |██████████████████              | 143 kB 7.3 MB/s eta 0:00:01\r\u001b[K     |███████████████████▏            | 153 kB 7.3 MB/s eta 0:00:01\r\u001b[K     |████████████████████▌           | 163 kB 7.3 MB/s eta 0:00:01\r\u001b[K     |█████████████████████▊          | 174 kB 7.3 MB/s eta 0:00:01\r\u001b[K     |███████████████████████         | 184 kB 7.3 MB/s eta 0:00:01\r\u001b[K     |████████████████████████▎       | 194 kB 7.3 MB/s eta 0:00:01\r\u001b[K     |█████████████████████████▋      | 204 kB 7.3 MB/s eta 0:00:01\r\u001b[K     |██████████████████████████▉     | 215 kB 7.3 MB/s eta 0:00:01\r\u001b[K     |████████████████████████████▏   | 225 kB 7.3 MB/s eta 0:00:01\r\u001b[K     |█████████████████████████████▍  | 235 kB 7.3 MB/s eta 0:00:01\r\u001b[K     |██████████████████████████████▊ | 245 kB 7.3 MB/s eta 0:00:01\r\u001b[K     |████████████████████████████████| 256 kB 7.3 MB/s eta 0:00:01\r\u001b[K     |████████████████████████████████| 256 kB 7.3 MB/s \n",
            "\u001b[?25hInstalling collected packages: pickle5\n",
            "Successfully installed pickle5-0.0.12\n"
          ]
        }
      ],
      "source": [
        "#df_train = pd.read_pickle(TRAIN_DATA_PATH)\n",
        "#df_val = pd.read_pickle(VAL_DATA_PATH)\n",
        "!pip3 install pickle5\n",
        "#df_train = pd.read_pickle(TRAIN_DATA_PATH)\n",
        "#df_val = pd.read_pickle(VAL_DATA_PATH)\n",
        "\n",
        "import pickle5 as pickle \n",
        "with open(TRAIN_DATA_PATH, \"rb\") as fh:\n",
        "    df_train = pickle.load(fh)\n",
        "with open(VAL_DATA_PATH, \"rb\") as fh1:\n",
        "    df_val = pickle.load(fh1)"
      ],
      "id": "german-feature"
    },
    {
      "cell_type": "code",
      "execution_count": null,
      "metadata": {
        "colab": {
          "base_uri": "https://localhost:8080/",
          "height": 206
        },
        "id": "corporate-pharmacy",
        "outputId": "96ada800-356e-466c-bf2a-914d449d2d31"
      },
      "outputs": [
        {
          "output_type": "execute_result",
          "data": {
            "text/html": [
              "\n",
              "  <div id=\"df-c0a0db93-6fe4-405a-a281-026bf6e79687\">\n",
              "    <div class=\"colab-df-container\">\n",
              "      <div>\n",
              "<style scoped>\n",
              "    .dataframe tbody tr th:only-of-type {\n",
              "        vertical-align: middle;\n",
              "    }\n",
              "\n",
              "    .dataframe tbody tr th {\n",
              "        vertical-align: top;\n",
              "    }\n",
              "\n",
              "    .dataframe thead th {\n",
              "        text-align: right;\n",
              "    }\n",
              "</style>\n",
              "<table border=\"1\" class=\"dataframe\">\n",
              "  <thead>\n",
              "    <tr style=\"text-align: right;\">\n",
              "      <th></th>\n",
              "      <th>trackId</th>\n",
              "      <th>frame</th>\n",
              "      <th>x</th>\n",
              "      <th>y</th>\n",
              "      <th>sceneId</th>\n",
              "      <th>metaId</th>\n",
              "    </tr>\n",
              "  </thead>\n",
              "  <tbody>\n",
              "    <tr>\n",
              "      <th>0</th>\n",
              "      <td>31</td>\n",
              "      <td>2217</td>\n",
              "      <td>25.07654</td>\n",
              "      <td>6.78323</td>\n",
              "      <td>07</td>\n",
              "      <td>0</td>\n",
              "    </tr>\n",
              "    <tr>\n",
              "      <th>1</th>\n",
              "      <td>31</td>\n",
              "      <td>2242</td>\n",
              "      <td>26.11484</td>\n",
              "      <td>7.72170</td>\n",
              "      <td>07</td>\n",
              "      <td>0</td>\n",
              "    </tr>\n",
              "    <tr>\n",
              "      <th>2</th>\n",
              "      <td>31</td>\n",
              "      <td>2267</td>\n",
              "      <td>27.05390</td>\n",
              "      <td>8.94723</td>\n",
              "      <td>07</td>\n",
              "      <td>0</td>\n",
              "    </tr>\n",
              "    <tr>\n",
              "      <th>3</th>\n",
              "      <td>31</td>\n",
              "      <td>2292</td>\n",
              "      <td>28.08326</td>\n",
              "      <td>10.18219</td>\n",
              "      <td>07</td>\n",
              "      <td>0</td>\n",
              "    </tr>\n",
              "    <tr>\n",
              "      <th>4</th>\n",
              "      <td>31</td>\n",
              "      <td>2317</td>\n",
              "      <td>29.08530</td>\n",
              "      <td>11.39276</td>\n",
              "      <td>07</td>\n",
              "      <td>0</td>\n",
              "    </tr>\n",
              "  </tbody>\n",
              "</table>\n",
              "</div>\n",
              "      <button class=\"colab-df-convert\" onclick=\"convertToInteractive('df-c0a0db93-6fe4-405a-a281-026bf6e79687')\"\n",
              "              title=\"Convert this dataframe to an interactive table.\"\n",
              "              style=\"display:none;\">\n",
              "        \n",
              "  <svg xmlns=\"http://www.w3.org/2000/svg\" height=\"24px\"viewBox=\"0 0 24 24\"\n",
              "       width=\"24px\">\n",
              "    <path d=\"M0 0h24v24H0V0z\" fill=\"none\"/>\n",
              "    <path d=\"M18.56 5.44l.94 2.06.94-2.06 2.06-.94-2.06-.94-.94-2.06-.94 2.06-2.06.94zm-11 1L8.5 8.5l.94-2.06 2.06-.94-2.06-.94L8.5 2.5l-.94 2.06-2.06.94zm10 10l.94 2.06.94-2.06 2.06-.94-2.06-.94-.94-2.06-.94 2.06-2.06.94z\"/><path d=\"M17.41 7.96l-1.37-1.37c-.4-.4-.92-.59-1.43-.59-.52 0-1.04.2-1.43.59L10.3 9.45l-7.72 7.72c-.78.78-.78 2.05 0 2.83L4 21.41c.39.39.9.59 1.41.59.51 0 1.02-.2 1.41-.59l7.78-7.78 2.81-2.81c.8-.78.8-2.07 0-2.86zM5.41 20L4 18.59l7.72-7.72 1.47 1.35L5.41 20z\"/>\n",
              "  </svg>\n",
              "      </button>\n",
              "      \n",
              "  <style>\n",
              "    .colab-df-container {\n",
              "      display:flex;\n",
              "      flex-wrap:wrap;\n",
              "      gap: 12px;\n",
              "    }\n",
              "\n",
              "    .colab-df-convert {\n",
              "      background-color: #E8F0FE;\n",
              "      border: none;\n",
              "      border-radius: 50%;\n",
              "      cursor: pointer;\n",
              "      display: none;\n",
              "      fill: #1967D2;\n",
              "      height: 32px;\n",
              "      padding: 0 0 0 0;\n",
              "      width: 32px;\n",
              "    }\n",
              "\n",
              "    .colab-df-convert:hover {\n",
              "      background-color: #E2EBFA;\n",
              "      box-shadow: 0px 1px 2px rgba(60, 64, 67, 0.3), 0px 1px 3px 1px rgba(60, 64, 67, 0.15);\n",
              "      fill: #174EA6;\n",
              "    }\n",
              "\n",
              "    [theme=dark] .colab-df-convert {\n",
              "      background-color: #3B4455;\n",
              "      fill: #D2E3FC;\n",
              "    }\n",
              "\n",
              "    [theme=dark] .colab-df-convert:hover {\n",
              "      background-color: #434B5C;\n",
              "      box-shadow: 0px 1px 3px 1px rgba(0, 0, 0, 0.15);\n",
              "      filter: drop-shadow(0px 1px 2px rgba(0, 0, 0, 0.3));\n",
              "      fill: #FFFFFF;\n",
              "    }\n",
              "  </style>\n",
              "\n",
              "      <script>\n",
              "        const buttonEl =\n",
              "          document.querySelector('#df-c0a0db93-6fe4-405a-a281-026bf6e79687 button.colab-df-convert');\n",
              "        buttonEl.style.display =\n",
              "          google.colab.kernel.accessAllowed ? 'block' : 'none';\n",
              "\n",
              "        async function convertToInteractive(key) {\n",
              "          const element = document.querySelector('#df-c0a0db93-6fe4-405a-a281-026bf6e79687');\n",
              "          const dataTable =\n",
              "            await google.colab.kernel.invokeFunction('convertToInteractive',\n",
              "                                                     [key], {});\n",
              "          if (!dataTable) return;\n",
              "\n",
              "          const docLinkHtml = 'Like what you see? Visit the ' +\n",
              "            '<a target=\"_blank\" href=https://colab.research.google.com/notebooks/data_table.ipynb>data table notebook</a>'\n",
              "            + ' to learn more about interactive tables.';\n",
              "          element.innerHTML = '';\n",
              "          dataTable['output_type'] = 'display_data';\n",
              "          await google.colab.output.renderOutput(dataTable, element);\n",
              "          const docLink = document.createElement('div');\n",
              "          docLink.innerHTML = docLinkHtml;\n",
              "          element.appendChild(docLink);\n",
              "        }\n",
              "      </script>\n",
              "    </div>\n",
              "  </div>\n",
              "  "
            ],
            "text/plain": [
              "   trackId  frame         x         y sceneId  metaId\n",
              "0       31   2217  25.07654   6.78323      07       0\n",
              "1       31   2242  26.11484   7.72170      07       0\n",
              "2       31   2267  27.05390   8.94723      07       0\n",
              "3       31   2292  28.08326  10.18219      07       0\n",
              "4       31   2317  29.08530  11.39276      07       0"
            ]
          },
          "metadata": {},
          "execution_count": 11
        }
      ],
      "source": [
        "df_train.head()"
      ],
      "id": "corporate-pharmacy"
    },
    {
      "cell_type": "markdown",
      "metadata": {
        "id": "24dc5d7c"
      },
      "source": [
        "#### Initiate model"
      ],
      "id": "24dc5d7c"
    },
    {
      "cell_type": "code",
      "execution_count": null,
      "metadata": {
        "colab": {
          "base_uri": "https://localhost:8080/"
        },
        "id": "harmful-colleague",
        "outputId": "3c7f79ec-fb07-4363-f742-369dc9c2923e"
      },
      "outputs": [
        {
          "output_type": "stream",
          "name": "stderr",
          "text": [
            "/usr/local/lib/python3.7/dist-packages/torch/serialization.py:657: SourceChangeWarning: source code of class 'segmentation_models_pytorch.encoders.resnet.ResNetEncoder' has changed. you can retrieve the original source code by accessing the object's source attribute or set `torch.nn.Module.dump_patches = True` and use the patch tool to revert the changes.\n",
            "  warnings.warn(msg, SourceChangeWarning)\n",
            "/usr/local/lib/python3.7/dist-packages/torch/serialization.py:657: SourceChangeWarning: source code of class 'segmentation_models_pytorch.base.modules.Conv2dReLU' has changed. you can retrieve the original source code by accessing the object's source attribute or set `torch.nn.Module.dump_patches = True` and use the patch tool to revert the changes.\n",
            "  warnings.warn(msg, SourceChangeWarning)\n",
            "/usr/local/lib/python3.7/dist-packages/torch/serialization.py:657: SourceChangeWarning: source code of class 'segmentation_models_pytorch.base.modules.Activation' has changed. you can retrieve the original source code by accessing the object's source attribute or set `torch.nn.Module.dump_patches = True` and use the patch tool to revert the changes.\n",
            "  warnings.warn(msg, SourceChangeWarning)\n"
          ]
        }
      ],
      "source": [
        "model = YNet(obs_len=OBS_LEN, pred_len=PRED_LEN, params=params)"
      ],
      "id": "harmful-colleague"
    },
    {
      "cell_type": "markdown",
      "metadata": {
        "id": "45e099fe"
      },
      "source": [
        "#### Start training\n",
        "Note, the Val ADE and FDE are without TTST and CWS to save time. Therefore, the numbers will be worse than the final values."
      ],
      "id": "45e099fe"
    },
    {
      "cell_type": "code",
      "execution_count": null,
      "metadata": {
        "colab": {
          "base_uri": "https://localhost:8080/",
          "height": 69
        },
        "id": "suiRZodUeLO4",
        "outputId": "1d0b1664-7504-4305-c8f1-2c860bd5b0ec"
      },
      "outputs": [
        {
          "output_type": "display_data",
          "data": {
            "application/javascript": [
              "\n",
              "        window._wandbApiKey = new Promise((resolve, reject) => {\n",
              "            function loadScript(url) {\n",
              "            return new Promise(function(resolve, reject) {\n",
              "                let newScript = document.createElement(\"script\");\n",
              "                newScript.onerror = reject;\n",
              "                newScript.onload = resolve;\n",
              "                document.body.appendChild(newScript);\n",
              "                newScript.src = url;\n",
              "            });\n",
              "            }\n",
              "            loadScript(\"https://cdn.jsdelivr.net/npm/postmate/build/postmate.min.js\").then(() => {\n",
              "            const iframe = document.createElement('iframe')\n",
              "            iframe.style.cssText = \"width:0;height:0;border:none\"\n",
              "            document.body.appendChild(iframe)\n",
              "            const handshake = new Postmate({\n",
              "                container: iframe,\n",
              "                url: 'https://wandb.ai/authorize'\n",
              "            });\n",
              "            const timeout = setTimeout(() => reject(\"Couldn't auto authenticate\"), 5000)\n",
              "            handshake.then(function(child) {\n",
              "                child.on('authorize', data => {\n",
              "                    clearTimeout(timeout)\n",
              "                    resolve(data)\n",
              "                });\n",
              "            });\n",
              "            })\n",
              "        });\n",
              "    "
            ],
            "text/plain": [
              "<IPython.core.display.Javascript object>"
            ]
          },
          "metadata": {}
        },
        {
          "output_type": "stream",
          "name": "stderr",
          "text": [
            "\u001b[34m\u001b[1mwandb\u001b[0m: Appending key for api.wandb.ai to your netrc file: /root/.netrc\n"
          ]
        },
        {
          "output_type": "display_data",
          "data": {
            "text/html": [
              "\n",
              "                    Syncing run <strong><a href=\"https://wandb.ai/agv/ynet/runs/3321ywf0\" target=\"_blank\">morning-dragon-19</a></strong> to <a href=\"https://wandb.ai/agv/ynet\" target=\"_blank\">Weights & Biases</a> (<a href=\"https://docs.wandb.com/integrations/jupyter.html\" target=\"_blank\">docs</a>).<br/>\n",
              "\n",
              "                "
            ],
            "text/plain": [
              "<IPython.core.display.HTML object>"
            ]
          },
          "metadata": {}
        }
      ],
      "source": [
        "import weights_and_biases as wandb\n",
        "wandb.init_wandb(params.copy(), model.model)"
      ],
      "id": "suiRZodUeLO4"
    },
    {
      "cell_type": "code",
      "execution_count": null,
      "metadata": {
        "colab": {
          "base_uri": "https://localhost:8080/"
        },
        "id": "optional-colleague",
        "outputId": "d24dd521-c935-4ae0-b9dc-a1a4533444cb"
      },
      "outputs": [
        {
          "output_type": "stream",
          "name": "stdout",
          "text": [
            "Preprocess data\n"
          ]
        },
        {
          "output_type": "stream",
          "name": "stderr",
          "text": [
            "Prepare Dataset: 100%|██████████| 208/208 [00:00<00:00, 986.12it/s]\n",
            "/content/drive/MyDrive/Human-Path-Prediction-master (1)/ynet/utils/dataloader.py:38: VisibleDeprecationWarning: Creating an ndarray from ragged nested sequences (which is a list-or-tuple of lists-or-tuples-or ndarrays with different lengths or shapes) is deprecated. If you meant to do this, you must specify 'dtype=object' when creating the ndarray\n",
            "  return np.array(trajectories), meta, scene_list\n",
            "Prepare Dataset: 100%|██████████| 7/7 [00:00<00:00, 861.94it/s]\n",
            "Epoch:   0%|          | 0/300 [00:00<?, ?it/s]"
          ]
        },
        {
          "output_type": "stream",
          "name": "stdout",
          "text": [
            "Start training\n",
            "208\n",
            "Epoch 0: \n",
            "Val ADE: 30.448373794555664 \n",
            "Val FDE: 19.351049423217773\n",
            "Best Epoch 0: \n",
            "Val ADE: 30.448373794555664 \n",
            "Val FDE: 19.351049423217773\n"
          ]
        },
        {
          "output_type": "stream",
          "name": "stderr",
          "text": [
            "\u001b[34m\u001b[1mwandb\u001b[0m: \u001b[33mWARNING\u001b[0m Saving files without folders. If you want to preserve sub directories pass base_path to wandb.save, i.e. wandb.save(\"/mnt/folder/file.h5\", base_path=\"/mnt\")\n",
            "Epoch:   0%|          | 1/300 [07:35<37:51:36, 455.84s/it]"
          ]
        },
        {
          "output_type": "stream",
          "name": "stdout",
          "text": [
            "Saved model to: saved_models/Ynet.pt\n",
            "Epoch 1: \n",
            "Val ADE: 30.0434513092041 \n",
            "Val FDE: 17.931123733520508\n",
            "Best Epoch 1: \n",
            "Val ADE: 30.0434513092041 \n",
            "Val FDE: 17.931123733520508\n"
          ]
        },
        {
          "output_type": "stream",
          "name": "stderr",
          "text": [
            "\u001b[34m\u001b[1mwandb\u001b[0m: \u001b[33mWARNING\u001b[0m Saving files without folders. If you want to preserve sub directories pass base_path to wandb.save, i.e. wandb.save(\"/mnt/folder/file.h5\", base_path=\"/mnt\")\n",
            "Epoch:   1%|          | 2/300 [15:10<37:42:18, 455.50s/it]"
          ]
        },
        {
          "output_type": "stream",
          "name": "stdout",
          "text": [
            "Saved model to: saved_models/Ynet.pt\n"
          ]
        },
        {
          "output_type": "stream",
          "name": "stderr",
          "text": [
            "\rEpoch:   1%|          | 3/300 [22:44<37:32:19, 455.01s/it]"
          ]
        },
        {
          "output_type": "stream",
          "name": "stdout",
          "text": [
            "Epoch 2: \n",
            "Val ADE: 32.29489517211914 \n",
            "Val FDE: 20.50275993347168\n",
            "Epoch 3: \n",
            "Val ADE: 29.783523559570312 \n",
            "Val FDE: 16.14065933227539\n",
            "Best Epoch 3: \n",
            "Val ADE: 29.783523559570312 \n",
            "Val FDE: 16.14065933227539\n"
          ]
        },
        {
          "output_type": "stream",
          "name": "stderr",
          "text": [
            "\u001b[34m\u001b[1mwandb\u001b[0m: \u001b[33mWARNING\u001b[0m Saving files without folders. If you want to preserve sub directories pass base_path to wandb.save, i.e. wandb.save(\"/mnt/folder/file.h5\", base_path=\"/mnt\")\n",
            "Epoch:   1%|▏         | 4/300 [30:18<37:24:04, 454.88s/it]"
          ]
        },
        {
          "output_type": "stream",
          "name": "stdout",
          "text": [
            "Saved model to: saved_models/Ynet.pt\n"
          ]
        },
        {
          "output_type": "stream",
          "name": "stderr",
          "text": [
            "\rEpoch:   2%|▏         | 5/300 [37:52<37:15:04, 454.59s/it]"
          ]
        },
        {
          "output_type": "stream",
          "name": "stdout",
          "text": [
            "Epoch 4: \n",
            "Val ADE: 36.98674392700195 \n",
            "Val FDE: 20.814346313476562\n",
            "Epoch 5: \n",
            "Val ADE: 25.851057052612305 \n",
            "Val FDE: 14.113011360168457\n",
            "Best Epoch 5: \n",
            "Val ADE: 25.851057052612305 \n",
            "Val FDE: 14.113011360168457\n"
          ]
        },
        {
          "output_type": "stream",
          "name": "stderr",
          "text": [
            "\u001b[34m\u001b[1mwandb\u001b[0m: \u001b[33mWARNING\u001b[0m Saving files without folders. If you want to preserve sub directories pass base_path to wandb.save, i.e. wandb.save(\"/mnt/folder/file.h5\", base_path=\"/mnt\")\n",
            "Epoch:   2%|▏         | 6/300 [45:27<37:07:25, 454.58s/it]"
          ]
        },
        {
          "output_type": "stream",
          "name": "stdout",
          "text": [
            "Saved model to: saved_models/Ynet.pt\n"
          ]
        },
        {
          "output_type": "stream",
          "name": "stderr",
          "text": [
            "\rEpoch:   2%|▏         | 7/300 [53:01<36:58:53, 454.38s/it]"
          ]
        },
        {
          "output_type": "stream",
          "name": "stdout",
          "text": [
            "Epoch 6: \n",
            "Val ADE: 30.3872013092041 \n",
            "Val FDE: 13.897396087646484\n"
          ]
        },
        {
          "output_type": "stream",
          "name": "stderr",
          "text": [
            "\rEpoch:   3%|▎         | 8/300 [1:00:35<36:50:34, 454.23s/it]"
          ]
        },
        {
          "output_type": "stream",
          "name": "stdout",
          "text": [
            "Epoch 7: \n",
            "Val ADE: 27.103139877319336 \n",
            "Val FDE: 12.927623748779297\n",
            "Epoch 8: \n",
            "Val ADE: 25.653173446655273 \n",
            "Val FDE: 13.345087051391602\n",
            "Best Epoch 8: \n",
            "Val ADE: 25.653173446655273 \n",
            "Val FDE: 13.345087051391602\n"
          ]
        },
        {
          "output_type": "stream",
          "name": "stderr",
          "text": [
            "\u001b[34m\u001b[1mwandb\u001b[0m: \u001b[33mWARNING\u001b[0m Saving files without folders. If you want to preserve sub directories pass base_path to wandb.save, i.e. wandb.save(\"/mnt/folder/file.h5\", base_path=\"/mnt\")\n",
            "Epoch:   3%|▎         | 9/300 [1:08:09<36:43:21, 454.30s/it]"
          ]
        },
        {
          "output_type": "stream",
          "name": "stdout",
          "text": [
            "Saved model to: saved_models/Ynet.pt\n",
            "Epoch 9: \n",
            "Val ADE: 19.001548767089844 \n",
            "Val FDE: 13.429633140563965\n",
            "Best Epoch 9: \n",
            "Val ADE: 19.001548767089844 \n",
            "Val FDE: 13.429633140563965\n"
          ]
        },
        {
          "output_type": "stream",
          "name": "stderr",
          "text": [
            "\u001b[34m\u001b[1mwandb\u001b[0m: \u001b[33mWARNING\u001b[0m Saving files without folders. If you want to preserve sub directories pass base_path to wandb.save, i.e. wandb.save(\"/mnt/folder/file.h5\", base_path=\"/mnt\")\n",
            "Epoch:   3%|▎         | 10/300 [1:15:44<36:36:16, 454.40s/it]"
          ]
        },
        {
          "output_type": "stream",
          "name": "stdout",
          "text": [
            "Saved model to: saved_models/Ynet.pt\n",
            "Epoch 10: \n",
            "Val ADE: 14.233152389526367 \n",
            "Val FDE: 16.696670532226562\n",
            "Best Epoch 10: \n",
            "Val ADE: 14.233152389526367 \n",
            "Val FDE: 16.696670532226562\n"
          ]
        },
        {
          "output_type": "stream",
          "name": "stderr",
          "text": [
            "\u001b[34m\u001b[1mwandb\u001b[0m: \u001b[33mWARNING\u001b[0m Saving files without folders. If you want to preserve sub directories pass base_path to wandb.save, i.e. wandb.save(\"/mnt/folder/file.h5\", base_path=\"/mnt\")\n",
            "Epoch:   4%|▎         | 11/300 [1:23:18<36:28:34, 454.38s/it]"
          ]
        },
        {
          "output_type": "stream",
          "name": "stdout",
          "text": [
            "Saved model to: saved_models/Ynet.pt\n",
            "Epoch 11: \n",
            "Val ADE: 9.356500625610352 \n",
            "Val FDE: 14.272052764892578\n",
            "Best Epoch 11: \n",
            "Val ADE: 9.356500625610352 \n",
            "Val FDE: 14.272052764892578\n"
          ]
        },
        {
          "output_type": "stream",
          "name": "stderr",
          "text": [
            "\u001b[34m\u001b[1mwandb\u001b[0m: \u001b[33mWARNING\u001b[0m Saving files without folders. If you want to preserve sub directories pass base_path to wandb.save, i.e. wandb.save(\"/mnt/folder/file.h5\", base_path=\"/mnt\")\n",
            "Epoch:   4%|▍         | 12/300 [1:30:53<36:21:00, 454.38s/it]"
          ]
        },
        {
          "output_type": "stream",
          "name": "stdout",
          "text": [
            "Saved model to: saved_models/Ynet.pt\n"
          ]
        },
        {
          "output_type": "stream",
          "name": "stderr",
          "text": [
            "\rEpoch:   4%|▍         | 13/300 [1:38:27<36:12:50, 454.25s/it]"
          ]
        },
        {
          "output_type": "stream",
          "name": "stdout",
          "text": [
            "Epoch 12: \n",
            "Val ADE: 10.136219024658203 \n",
            "Val FDE: 15.528359413146973\n",
            "Epoch 13: \n",
            "Val ADE: 7.396485805511475 \n",
            "Val FDE: 14.61416244506836\n",
            "Best Epoch 13: \n",
            "Val ADE: 7.396485805511475 \n",
            "Val FDE: 14.61416244506836\n"
          ]
        },
        {
          "output_type": "stream",
          "name": "stderr",
          "text": [
            "\u001b[34m\u001b[1mwandb\u001b[0m: \u001b[33mWARNING\u001b[0m Saving files without folders. If you want to preserve sub directories pass base_path to wandb.save, i.e. wandb.save(\"/mnt/folder/file.h5\", base_path=\"/mnt\")\n",
            "Epoch:   5%|▍         | 14/300 [1:46:01<36:05:43, 454.35s/it]"
          ]
        },
        {
          "output_type": "stream",
          "name": "stdout",
          "text": [
            "Saved model to: saved_models/Ynet.pt\n",
            "Epoch 14: \n",
            "Val ADE: 5.978558540344238 \n",
            "Val FDE: 15.97451400756836\n",
            "Best Epoch 14: \n",
            "Val ADE: 5.978558540344238 \n",
            "Val FDE: 15.97451400756836\n"
          ]
        },
        {
          "output_type": "stream",
          "name": "stderr",
          "text": [
            "\u001b[34m\u001b[1mwandb\u001b[0m: \u001b[33mWARNING\u001b[0m Saving files without folders. If you want to preserve sub directories pass base_path to wandb.save, i.e. wandb.save(\"/mnt/folder/file.h5\", base_path=\"/mnt\")\n",
            "Epoch:   5%|▌         | 15/300 [1:53:36<35:58:40, 454.46s/it]"
          ]
        },
        {
          "output_type": "stream",
          "name": "stdout",
          "text": [
            "Saved model to: saved_models/Ynet.pt\n",
            "Epoch 15: \n",
            "Val ADE: 4.088808059692383 \n",
            "Val FDE: 12.756856918334961\n",
            "Best Epoch 15: \n",
            "Val ADE: 4.088808059692383 \n",
            "Val FDE: 12.756856918334961\n"
          ]
        },
        {
          "output_type": "stream",
          "name": "stderr",
          "text": [
            "\u001b[34m\u001b[1mwandb\u001b[0m: \u001b[33mWARNING\u001b[0m Saving files without folders. If you want to preserve sub directories pass base_path to wandb.save, i.e. wandb.save(\"/mnt/folder/file.h5\", base_path=\"/mnt\")\n",
            "Epoch:   5%|▌         | 16/300 [2:01:10<35:51:22, 454.52s/it]"
          ]
        },
        {
          "output_type": "stream",
          "name": "stdout",
          "text": [
            "Saved model to: saved_models/Ynet.pt\n",
            "Epoch 16: \n",
            "Val ADE: 3.8821353912353516 \n",
            "Val FDE: 11.561885833740234\n",
            "Best Epoch 16: \n",
            "Val ADE: 3.8821353912353516 \n",
            "Val FDE: 11.561885833740234\n"
          ]
        },
        {
          "output_type": "stream",
          "name": "stderr",
          "text": [
            "\u001b[34m\u001b[1mwandb\u001b[0m: \u001b[33mWARNING\u001b[0m Saving files without folders. If you want to preserve sub directories pass base_path to wandb.save, i.e. wandb.save(\"/mnt/folder/file.h5\", base_path=\"/mnt\")\n",
            "Epoch:   6%|▌         | 17/300 [2:08:45<35:44:07, 454.59s/it]"
          ]
        },
        {
          "output_type": "stream",
          "name": "stdout",
          "text": [
            "Saved model to: saved_models/Ynet.pt\n",
            "Epoch 17: \n",
            "Val ADE: 3.3512752056121826 \n",
            "Val FDE: 11.579163551330566\n",
            "Best Epoch 17: \n",
            "Val ADE: 3.3512752056121826 \n",
            "Val FDE: 11.579163551330566\n"
          ]
        },
        {
          "output_type": "stream",
          "name": "stderr",
          "text": [
            "\u001b[34m\u001b[1mwandb\u001b[0m: \u001b[33mWARNING\u001b[0m Saving files without folders. If you want to preserve sub directories pass base_path to wandb.save, i.e. wandb.save(\"/mnt/folder/file.h5\", base_path=\"/mnt\")\n",
            "Epoch:   6%|▌         | 18/300 [2:16:20<35:36:38, 454.60s/it]"
          ]
        },
        {
          "output_type": "stream",
          "name": "stdout",
          "text": [
            "Saved model to: saved_models/Ynet.pt\n"
          ]
        },
        {
          "output_type": "stream",
          "name": "stderr",
          "text": [
            "\rEpoch:   6%|▋         | 19/300 [2:23:54<35:27:50, 454.34s/it]"
          ]
        },
        {
          "output_type": "stream",
          "name": "stdout",
          "text": [
            "Epoch 18: \n",
            "Val ADE: 3.8408257961273193 \n",
            "Val FDE: 12.094799041748047\n"
          ]
        },
        {
          "output_type": "stream",
          "name": "stderr",
          "text": [
            "\rEpoch:   7%|▋         | 20/300 [2:31:27<35:19:36, 454.20s/it]"
          ]
        },
        {
          "output_type": "stream",
          "name": "stdout",
          "text": [
            "Epoch 19: \n",
            "Val ADE: 3.566770315170288 \n",
            "Val FDE: 13.248457908630371\n",
            "Epoch 20: \n",
            "Val ADE: 3.301231622695923 \n",
            "Val FDE: 10.414738655090332\n",
            "Best Epoch 20: \n",
            "Val ADE: 3.301231622695923 \n",
            "Val FDE: 10.414738655090332\n"
          ]
        },
        {
          "output_type": "stream",
          "name": "stderr",
          "text": [
            "\u001b[34m\u001b[1mwandb\u001b[0m: \u001b[33mWARNING\u001b[0m Saving files without folders. If you want to preserve sub directories pass base_path to wandb.save, i.e. wandb.save(\"/mnt/folder/file.h5\", base_path=\"/mnt\")\n",
            "Epoch:   7%|▋         | 21/300 [2:39:02<35:12:30, 454.30s/it]"
          ]
        },
        {
          "output_type": "stream",
          "name": "stdout",
          "text": [
            "Saved model to: saved_models/Ynet.pt\n"
          ]
        },
        {
          "output_type": "stream",
          "name": "stderr",
          "text": [
            "\rEpoch:   7%|▋         | 22/300 [2:46:36<35:04:31, 454.22s/it]"
          ]
        },
        {
          "output_type": "stream",
          "name": "stdout",
          "text": [
            "Epoch 21: \n",
            "Val ADE: 4.333622932434082 \n",
            "Val FDE: 13.820666313171387\n"
          ]
        }
      ],
      "source": [
        "model.train(df_train, df_val, params, train_image_path=TRAIN_IMAGE_PATH, val_image_path=VAL_IMAGE_PATH, \n",
        "            experiment_name=EXPERIMENT_NAME, batch_size=BATCH_SIZE, num_goals=NUM_GOALS, num_traj=NUM_TRAJ, \n",
        "            device=None, dataset_name= 'ind')"
      ],
      "id": "optional-colleague"
    },
    {
      "cell_type": "code",
      "execution_count": null,
      "metadata": {
        "id": "16fe307e"
      },
      "outputs": [],
      "source": [
        ""
      ],
      "id": "16fe307e"
    }
  ],
  "metadata": {
    "accelerator": "GPU",
    "colab": {
      "name": "train_inD_longterm.ipynb",
      "provenance": [],
      "machine_shape": "hm"
    },
    "kernelspec": {
      "display_name": "Python 3",
      "name": "python3"
    },
    "language_info": {
      "name": "python"
    }
  },
  "nbformat": 4,
  "nbformat_minor": 5
}